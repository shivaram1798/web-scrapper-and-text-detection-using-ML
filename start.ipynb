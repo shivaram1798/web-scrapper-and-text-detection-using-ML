{
 "cells": [
  {
   "cell_type": "code",
   "execution_count": 6,
   "id": "55af01c7",
   "metadata": {},
   "outputs": [
    {
     "name": "stdout",
     "output_type": "stream",
     "text": [
      "imported all the required modules\n"
     ]
    }
   ],
   "source": [
    "# importing all required modules\n",
    "from selenium import webdriver\n",
    "from selenium.webdriver.common.by import By\n",
    "#from webdriver_manager.chrome import ChromeDriverManager\n",
    "import time\n",
    "from selenium import webdriver\n",
    "from selenium.webdriver.chrome.service import Service\n",
    "from selenium.webdriver.common.by import By\n",
    "from selenium.webdriver.common.keys import Keys\n",
    "from selenium.webdriver.support.ui import WebDriverWait                                                                                                            \n",
    "\n",
    "#from selenium.webdriver.support.expected_conditions import presence_of_element_located\n",
    "\n",
    "from selenium.webdriver.support import expected_conditions as EC\n",
    "from selenium.common.exceptions import TimeoutException\n",
    "from selenium.webdriver.common.action_chains import ActionChains\n",
    "\n",
    "\n",
    "import csv\n",
    "print(\"imported all the required modules\")"
   ]
  },
  {
   "cell_type": "code",
   "execution_count": 7,
   "id": "5428c029",
   "metadata": {},
   "outputs": [],
   "source": [
    "\n",
    "file_path = 'password.txt'  \n",
    "with open(file_path, 'r') as file:\n",
    "    # Read the file content\n",
    "    pswd = file.read()\n",
    "    \n",
    "browser = webdriver.Chrome()\n",
    "browser.get('https://ortus.lv')\n",
    "\n",
    "browser.maximize_window()\n",
    "actions = ActionChains(browser)\n",
    "time.sleep(5)\n",
    "\n"
   ]
  },
  {
   "cell_type": "code",
   "execution_count": 8,
   "id": "b80e1bf6",
   "metadata": {},
   "outputs": [],
   "source": [
    "\n",
    "error = browser.find_element(by=By.XPATH,value=\"//button[@id='details-button']\")\n",
    "error.click()\n",
    "proceed = browser.find_element(by=By.XPATH,value=\"//a[@id='proceed-link']\")\n",
    "proceed.click()\n",
    "#id=\"proceed-link\"\n",
    "Email = browser.find_element(by=By.XPATH,value=\"//input[@id='IDToken1']\")\n",
    "\n",
    "\n",
    "Email.send_keys(\"shivaram.kukkunoori\")\n",
    "password= browser.find_element(by=By.XPATH,value=\"//input[@id='IDToken2']\")\n",
    "password.send_keys(pswd)\n"
   ]
  },
  {
   "cell_type": "code",
   "execution_count": 9,
   "id": "9f76f2b1",
   "metadata": {},
   "outputs": [],
   "source": [
    "submit = browser.find_element(by=By.XPATH,value=\"//input[@name='Login.Submit']\")\n",
    "submit.click()"
   ]
  },
  {
   "cell_type": "code",
   "execution_count": 10,
   "id": "9d79623c",
   "metadata": {},
   "outputs": [],
   "source": [
    "sub = browser.find_element(by=By.XPATH,value=\"//a[@href='https://estudijas.rtu.lv/course/view.php?id=350275']\")\n",
    "sub.click()"
   ]
  },
  {
   "cell_type": "code",
   "execution_count": 11,
   "id": "a96a252e",
   "metadata": {},
   "outputs": [],
   "source": [
    "task =browser.find_element(by=By.XPATH,value=\"//a[@ href='https://estudijas.rtu.lv/mod/assign/view.php?id=3451538']\")\n",
    "task.click()"
   ]
  },
  {
   "cell_type": "code",
   "execution_count": 12,
   "id": "1e8f3d18",
   "metadata": {},
   "outputs": [],
   "source": [
    "file_download = browser.find_element(by=By.XPATH,value=\"//a[@href='https://estudijas.rtu.lv/pluginfile.php/5003311/assignfeedback_editpdf/download/5247733/Shivaram%20Kukkunoori_5474030_0.pdf?forcedownload=1']\")\n",
    "file_download.click()"
   ]
  },
  {
   "cell_type": "code",
   "execution_count": null,
   "id": "9931432f",
   "metadata": {},
   "outputs": [],
   "source": []
  },
  {
   "cell_type": "code",
   "execution_count": null,
   "id": "4f692a2f",
   "metadata": {},
   "outputs": [],
   "source": []
  }
 ],
 "metadata": {
  "kernelspec": {
   "display_name": "Python 3 (ipykernel)",
   "language": "python",
   "name": "python3"
  },
  "language_info": {
   "codemirror_mode": {
    "name": "ipython",
    "version": 3
   },
   "file_extension": ".py",
   "mimetype": "text/x-python",
   "name": "python",
   "nbconvert_exporter": "python",
   "pygments_lexer": "ipython3",
   "version": "3.9.12"
  }
 },
 "nbformat": 4,
 "nbformat_minor": 5
}
