{
 "cells": [
  {
   "cell_type": "code",
   "execution_count": 1,
   "id": "86382366",
   "metadata": {},
   "outputs": [
    {
     "name": "stdout",
     "output_type": "stream",
     "text": [
      "imported all the required modules\n"
     ]
    }
   ],
   "source": [
    "# importing all required modules\n",
    "from selenium import webdriver\n",
    "from selenium.webdriver.common.by import By\n",
    "#from webdriver_manager.chrome import ChromeDriverManager\n",
    "import time\n",
    "from selenium.webdriver.common.keys import Keys\n",
    "from selenium.webdriver.support.ui import WebDriverWait\n",
    "from selenium.webdriver.support.expected_conditions import presence_of_element_located\n",
    "from bs4 import BeautifulSoup as bs\n",
    "from selenium.webdriver.support import expected_conditions as EC\n",
    "from selenium.common.exceptions import TimeoutException\n",
    "from selenium.webdriver.common.action_chains import ActionChains\n",
    "import time\n",
    "import random\n",
    "import csv\n",
    "print(\"imported all the required modules\")"
   ]
  },
  {
   "cell_type": "code",
   "execution_count": 2,
   "id": "ba91497b",
   "metadata": {},
   "outputs": [
    {
     "name": "stderr",
     "output_type": "stream",
     "text": [
      "C:\\Users\\shivaramakrishna\\AppData\\Local\\Temp\\ipykernel_5076\\4108396932.py:1: DeprecationWarning: executable_path has been deprecated, please pass in a Service object\n",
      "  browser = webdriver.Chrome('C:\\\\Users\\\\shivaramakrishna\\\\Downloads\\\\chromedriver')\n"
     ]
    }
   ],
   "source": [
    "browser = webdriver.Chrome('C:\\\\Users\\\\shivaramakrishna\\\\Downloads\\\\chromedriver')\n",
    "browser.get('https://opensea.io/collection/first-comment-society-nft')\n",
    "browser.maximize_window()\n",
    "actions = ActionChains(browser)"
   ]
  },
  {
   "cell_type": "code",
   "execution_count": 31,
   "id": "f8373568",
   "metadata": {},
   "outputs": [],
   "source": [
    "s = browser.find_elements(by=By.XPATH,value=\"//div[@class='sc-1xf18x6-0 haVRLx AssetsSearchView--assets']\")"
   ]
  },
  {
   "cell_type": "code",
   "execution_count": 28,
   "id": "6bb39851",
   "metadata": {},
   "outputs": [],
   "source": [
    "browser.execute_script(\"document.body.style.zoom='100%'\")"
   ]
  },
  {
   "cell_type": "code",
   "execution_count": 32,
   "id": "81a5d848",
   "metadata": {},
   "outputs": [
    {
     "data": {
      "text/plain": [
       "1"
      ]
     },
     "execution_count": 32,
     "metadata": {},
     "output_type": "execute_result"
    }
   ],
   "source": [
    "len(s)"
   ]
  },
  {
   "cell_type": "code",
   "execution_count": 35,
   "id": "0115313d",
   "metadata": {},
   "outputs": [],
   "source": [
    "dims = s[0].find_elements(by=By.XPATH,value=\"//img[@style='position: absolute; inset: 0px; box-sizing: border-box; padding: 0px; border: none; margin: auto; display: block; width: 0px; height: 0px; min-width: 100%; max-width: 100%; min-height: 100%; max-height: 100%; object-fit: contain;']\")"
   ]
  },
  {
   "cell_type": "code",
   "execution_count": 36,
   "id": "2f808346",
   "metadata": {},
   "outputs": [
    {
     "data": {
      "text/plain": [
       "15"
      ]
     },
     "execution_count": 36,
     "metadata": {},
     "output_type": "execute_result"
    }
   ],
   "source": [
    "len(dims)"
   ]
  },
  {
   "cell_type": "code",
   "execution_count": null,
   "id": "d0118ec7",
   "metadata": {},
   "outputs": [],
   "source": []
  },
  {
   "cell_type": "code",
   "execution_count": 23,
   "id": "e4706ad9",
   "metadata": {},
   "outputs": [
    {
     "name": "stdout",
     "output_type": "stream",
     "text": [
      "https://lh3.googleusercontent.com/nC2XmejBllYn8Ud9B06XV1KOAbtMllyEHsJCOqmdaAIVyudw6PfS2tnGMxkGfL5SqAzVTUeH-rHRgEdOnjeA34TMz1oN76SeTchQLQ=w284\n",
      "https://lh3.googleusercontent.com/efgw-sQfC7wH--DSUwvT4X5C6Zd3Uwn_HBUrRJr0fp3OnB5nssxKDyxFwiKCR9u3b3-cNTY2F6DjK_o_44T_KRrJoiwcSABNf65AJw=w284\n",
      "https://lh3.googleusercontent.com/13E841cpfZ2BVE5J00WodwLczj7oet3kkcdJzkFy-ev5pxb1My_MfpkELGZgUq41WIml4Cx_4HW12OewXRTAiYZjTFvICEs09S5-=w284\n",
      "https://lh3.googleusercontent.com/1VV40FMgWymZRthVBE8JpoIwAjC2eTW5_gnhsNd4G1pXeHby4BwiCrT3mp3iz3_9c9TA8CbLGQJIm0f2AKaEMyn-0KqFammQaV8mbNM=w284\n",
      "https://lh3.googleusercontent.com/IFjJfAv-BYngA5vpVkRAugmYGINg0Mjk_lPQjaXcWxtxVE3x3Qd3kAoEU5x6hIfexToJDdoP4KlgJrOhMABKzARF8msq8kh0kfhB3L0=w284\n",
      "https://lh3.googleusercontent.com/BXBI-D510Lpi57Oue3TjC01Ibf085k-R6mcJhjz752CbgGOpZwtnJWyj9H9YxbC0-82vVqj0ZlCfXm86DMOuBj2AvfrUH_BftbUvIQ=w284\n",
      "https://lh3.googleusercontent.com/-nop3nLrScuAWM840_SXj8roS9bU4QXhK1_a_Th-LyiVYfurW0H6ES5N9LK4bF3Tpb0OEqzSTSZNDUPNKPmzo9PHfAyEZeOKuzh1xQ=w284\n",
      "https://lh3.googleusercontent.com/6XsCIqrWrw0Gfwa9uoBLnJXCGafW2hIVxt8YdzCGZS0SO6IXEufJrf1VcdslAUJ7BnrIuiW3r6gQs4UBqHQNVS7lVPSiTqqr0wGY=w284\n",
      "https://lh3.googleusercontent.com/UxUkDfTp3aHwrg3se7eQdwRt5OKaEvj2Z08vavk856nzaBxNWwDL0PjA3Or0nyVy-kvF0x2W_IVOGDNFqfxwbVzDoEUvEWrqhsBgrw=w284\n",
      "https://lh3.googleusercontent.com/gryT6hR1dtysqNUXvxNGOHcZtN-NQz_yqbJcej6bhdMeOgqkdLnGXFpmTa0BuD-VCaW1J2TCPdet4kEqSI_9bop0j1H36A7k78hVwA=w284\n",
      "https://lh3.googleusercontent.com/NETLZgN4tMaFMC8r_gO7FDiBxSYLXEMTYyB2kZ5RPoidr14aYbR1tc02rCLw7vO_SDsj9I4KltlgSX8nG8-PnJZOcANQILacKvwU=w284\n",
      "https://lh3.googleusercontent.com/yZP2Jv2lM85hhL-nFm5H--J6XcVwtoXw_ZgLFYlEYAB5iqHCh7xyg2TGFOZHoucK5prh07H2C3VbyRPe0bvcUUVIxT4Td_0tg-oPZQ=w284\n",
      "https://lh3.googleusercontent.com/cfKNBLbG3wP4sVzCubHKPiABY-UlzqOor4CV9_gX2sahVl2rNh00GzYedLk7K7PyLTktjsm_UqhWvZQVMnvGHME28OLniFD2Dg6ynqA=w284\n",
      "https://lh3.googleusercontent.com/3s7xgvFBvu9vxSQNqEBYY4qG28kX6_kWg7-GaRr64p2ysCY7p19gUmfKLwJf9nLY3TISzEvzhPOwwXnH1zXCWaL6CryoGzHFHQZyf2I=w284\n",
      "https://lh3.googleusercontent.com/XB3mNjepIbhzC12Lme_PhMgFCXhD_3pLvJFdmQuEHWsNAe3v9lWJOCTwyxlo-wGyYxKq2Ta426buQYlh_PlLRp53oldq8l40evqJsXM=w284\n",
      "https://lh3.googleusercontent.com/kwgxRgVM2hdNmmdnC1R0mhx2FyeRdA93ABkftuLOmXDwEZP_sz1KWemp3RDdZfuiHzHnMiWvlRh9tEedeUEk7W8ZY6Cr_cycdEAIQGY=w284\n",
      "https://lh3.googleusercontent.com/9xp8IbxjXpjcwbhJMijiIg1S9Q0B0fkN0ZNvYOk3m3X9nO4PFzu2ncgUPzqu6Z9v46fM6690exgO1hTj3ETwrelTTZU1TDLZ2_t3=w284\n",
      "https://lh3.googleusercontent.com/ghjcTJnaXK6YXcpTamR1_MO9vL8DCkKAtQaUiQul6QLpRbropEurDlOGAgqAx1VycffSPproq-TOu3-DdohIDuHqcCCjLM5OLWpArw=w284\n",
      "https://lh3.googleusercontent.com/gi5SIGDUH3EdgvkHOD9J13NBRRLF7mh6O_Lfn3R7DUqXZJJbSeO_O1RNDV9_iQMCL5X5GnugExM_lwhKI3tCMkgWdpHFlJMwfJwG=w284\n",
      "https://lh3.googleusercontent.com/GHVtXdl73Lh_OddTdJrGjrt0CfdimPZJourxu86Ejwzo8sSSsUeoeZmZRFo83DRA2B45sRw3zN8Cf2n8Df9JwXT72TEbuaNznk1C=w284\n",
      "https://lh3.googleusercontent.com/PU-T9awhXKU3VZM8wNgHRDmJLxoBRzyg1KDBwFjgN33P6wKtBaPiWuWYsRor7dyZNk1OqiHS0XeDU3xR_ewv9GFL1rm_VEu19rCg=w284\n",
      "https://lh3.googleusercontent.com/wZGNLqHgrg6ii9-Ne0EwFrodLAVs2FpnHcFyP4W0lVkE-jcLLSBex8ExjX8hHZ6UcHM1v1Q9Q4Jm0vPrTwMCGd_WQbEvwOM4Ezhd=w284\n",
      "https://lh3.googleusercontent.com/sMOFPIrFuNfGZiYojQtecs24-l6I8ppW41OtAUYPm1H903MmbGP-Gs9_CvchrrtSnqkE_OEEJblUcqztwh9wkxkLvY2kwkLA90jq=w284\n",
      "https://lh3.googleusercontent.com/bO7rQZyj7tPh3mbLSQDo0_mHWoaJxzYEaXWSf8HdxNKo-HFxycV4R3X9mu54nEchNmqsmtiCYzdGRqzpcRkMH04cFwKuzF9x5IWbkA=w284\n",
      "https://lh3.googleusercontent.com/hI8XiB5fS4Q2sPtrUZNEECZNaGMFKWkto0u3ZDw6c0QMZ0sEZcwst4sNXNv_DQwpV8PMTAnd4WBSzKYFLOs6qvGSDUDDzLnemxncxw=w284\n",
      "https://lh3.googleusercontent.com/osEl4rTdgNOH2Da6gSnvGSAMtoTUAxnsEvfCdlOjElnpj56rKJ5vvtIJhkAKNcqQNKEtSZWXV0uVFShFaOVysmAPHJXBxVqkja2igQ=w284\n",
      "https://lh3.googleusercontent.com/ZUi-1SBZDRNLIl0C8xwRcDAd-xRCgcu8kvYqc0G8Sccr7znF8NrqxbQacy7J7lUJFLQPPQdPPYXrdLxXGgMbhIIt3DJw0hsYR3lZPw=w284\n",
      "https://lh3.googleusercontent.com/7q3OnKFARxDvvkYl1pxjjMO1jWOIxGwpLM2rplvGL2nJnqPGCGy8hi7hLCisedQjQ2-mkkHhhQ-Q3QAdLOXZUe3oqlZiGMbLulS3-g=w284\n",
      "https://lh3.googleusercontent.com/2xvZxgDzUCaam6G-d5eGR8cV4Fy77Iw5J1aUMbDLbWgHa-cSA_juT27xqdqtMF5KewdokVySLvdgQI-s6GQS7sGVexx8BsPGnOayYA=w284\n",
      "https://lh3.googleusercontent.com/aoB4q5CjfE5qhtEMXG2i2G2YSouQmmifuRnPQi2su8R-09_Buw7dNlsqEQYzMnk1x4phFrkhLK-6wS9wztzY720YrAakRKbj7f6B=w284\n",
      "https://lh3.googleusercontent.com/M_EBmRXj9qKBhGZpJjrcfRofb1HWDSHpwFaLhQZo7whKSDeCmeTHJHJ2d9IiXZueQgArOEY1kfzeXuLAosj8jmS2243SvPz9BbqNbA=w284\n",
      "https://lh3.googleusercontent.com/Eu-a3vfnZKs9potalaZsBgp1Sk25yurC_a379EixmuoK3MAJMfglZXGeYTxCgk4hK5yRKmHt5EdUTZifRjNMdh9oDTonrI3novtQ=w284\n",
      "https://lh3.googleusercontent.com/OnYVot4C-_7QGNJn7_M_U4exlvHc3-MwViBUOy1B98fAkN4QqJrJA8QofXGkLHE1_sC2zajAvab-8rjWJAZ2cQJFWDKR9rS_5huJ=w284\n",
      "https://lh3.googleusercontent.com/TVH-meClXH4aFca_g0ytZCTlxIxGPwgd0EUnwkhKXNyojdhrKa32RM1lJakFPN4bkV32xPRbDR3XusOxQI64BApKPwWPvQlvX1Fc=w284\n",
      "https://lh3.googleusercontent.com/pGDe9KDrgpc5K6fL6vhHZqRFkf2UWZVrYQO_xvRx5sLt7JWfXzmvIyr2aJPajYnWZS8B7UlDYaSgNMkQa4RFwmcJ58aotXXh_2pi2w=w284\n",
      "https://lh3.googleusercontent.com/9lgpcDqOK7Ysp4qk7A-n03M3YeZj3Zs3yLGbgSkdgwQ56aDxmUcHWBI9qNmj5qzIUc0UN3tEXlRvtVvfPLnfg2QCxNq8uyz-MdYvAw=w284\n",
      "https://lh3.googleusercontent.com/211M0JKEQlRbZf8UwIJEsG_4vEU0GBvAZEnq_4DcHcTHjCRpnyNZtphBtF8Xr0Y748z76Zi6d485E_oM0X-2FW6kkNce-uipkqWhJ7Y=w284\n",
      "https://lh3.googleusercontent.com/-GTgSGCslgoMkdnAlyZLgyBnuSips65ixe38ACTfZbwbONe6j-DrtBRyHMBlszwYyguw-72UdtmcP4wixahO4ZLpvpGozESeDvcwWQ=w284\n",
      "https://lh3.googleusercontent.com/m3ratsdkj3MQ47j9_P_TEJx8gEWQlawMWnkjV7nfhOLem0Z8dEE6YdM36C9M4Nlx2Kc8pVRkRQ0Jft5Y3yjyLP-HuFlymnZw5xQMGs8=w284\n",
      "https://lh3.googleusercontent.com/XYl38h9ABKOJt5gd4wYhYqgcib6L00Q5hEgf3vSlGkbvmYYaTH4vvlv-yo5uRNezljYmW75Q7ugA0BIg3sgRHuM1B_d4xT8BMoHshA=w284\n",
      "https://lh3.googleusercontent.com/LY5RxmDGvIWBc9Ol8RgFabsP0NM2RB2NWGVHDbM2H1ZkWbyXT7yHBU7gHIK9t5QCZawQiCBsmMgma4c-pw1mqUM3LzJo8QdScBrWyg=w284\n",
      "https://lh3.googleusercontent.com/ljpEfwvwvAPL6I6pE_af1IU1m4U4pZYuIMiCRDz_OufxRUGnL6cogVI4o6D_UsdQ4oF8YjxolYO3zdGpVgbFHIuaj8tAdtDe8vWHtw=w284\n",
      "https://lh3.googleusercontent.com/L3owcbiVuBun2dHWB9H_0DVjlYKllIn7kwBmzsDUldvT72NMJ6ZQ7Q9JRcLePDdpIs9p3Cb73gesePTOt3B-F6bEvSmBcjMfuZZv=w284\n",
      "https://lh3.googleusercontent.com/-ap5QCBpSy2qVv9eRlmgZB-GcihNAW3GZ32K6C9C3P6mTjOEqJWN-mRg3rA7M7KZguXIw2udTFyXAO2jRoeXGKN9ISQRdZtV5XD8=w284\n",
      "https://lh3.googleusercontent.com/pPYu1uqyMdUaQYyuKTiinYDLGWKPcW4LG0hgxjJiDTrQRWABR8aGiJJ3lidaYMKRyqXzTaAnOCmokDyfquB887y3QV4-NS7G0HhuLGo=w284\n",
      "https://lh3.googleusercontent.com/qoWa3oiSklZkoRE62ijQOXjbZfSmy9jJKiK8xtlFzO1zOQAoMpMJlFJikdauaSFuj6vCW0dkvx7Engi-AU1xGy2x6WMqohCTcdF5pwc=w284\n",
      "https://lh3.googleusercontent.com/a-8VQHWrRibaqivo4VlGgoOy0BNt8u-xW7-ZYzzhy4L6ugSR2Q3Wz_IRt_FGhOYOJKm_p2IwB_shQrO9hbkmsttnJ2hD9LbZ3GzRkg=w284\n",
      "https://lh3.googleusercontent.com/11eTGVJIGw00Hbm2OKAgSq6mYudJEsu6p3XbNz6BkZjprGxuJZnOFdMYXQU4vqK5ivB2bwSxTgEtyltfr74YY0hc-_FuExgervvYSQ=w284\n",
      "https://lh3.googleusercontent.com/y2qm38HLTDnnYPf4OWwCsKbi0rfnYz0JSJKiogQtXBXNLXpkrqlJshmbGaqL96Nf3LhLwk7jj_S06NN3Dl1ZtBjIxZ_D2pkeWvVoECU=w284\n"
     ]
    }
   ],
   "source": [
    "for i in dims:\n",
    "    print(i.get_attribute('src'))"
   ]
  },
  {
   "cell_type": "code",
   "execution_count": null,
   "id": "ab294550",
   "metadata": {},
   "outputs": [],
   "source": []
  }
 ],
 "metadata": {
  "kernelspec": {
   "display_name": "Python 3 (ipykernel)",
   "language": "python",
   "name": "python3"
  },
  "language_info": {
   "codemirror_mode": {
    "name": "ipython",
    "version": 3
   },
   "file_extension": ".py",
   "mimetype": "text/x-python",
   "name": "python",
   "nbconvert_exporter": "python",
   "pygments_lexer": "ipython3",
   "version": "3.9.12"
  }
 },
 "nbformat": 4,
 "nbformat_minor": 5
}
